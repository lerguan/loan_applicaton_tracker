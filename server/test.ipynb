{
 "cells": [
  {
   "cell_type": "code",
   "execution_count": 6,
   "metadata": {},
   "outputs": [],
   "source": [
    "from models import engine\n",
    "from sqlalchemy import text\n"
   ]
  },
  {
   "cell_type": "code",
   "execution_count": 7,
   "metadata": {},
   "outputs": [],
   "source": [
    "conn = engine.connect()"
   ]
  },
  {
   "cell_type": "code",
   "execution_count": 8,
   "metadata": {},
   "outputs": [],
   "source": [
    "stmt = text('select * from application where application_id < 10')\n",
    "ans = conn.execute(stmt)"
   ]
  },
  {
   "cell_type": "code",
   "execution_count": 9,
   "metadata": {},
   "outputs": [
    {
     "name": "stdout",
     "output_type": "stream",
     "text": [
      "(1, 1303834, 23, 3, 'single', 'rented', 'no', 'Mechanical_engineer', 'Rewa', 'Madhya_Pradesh', 3, 13, 0, '2024-10-28', 'SUBMITTED')\n",
      "(2, 7574516, 40, 10, 'single', 'rented', 'no', 'Software_Developer', 'Parbhani', 'Maharashtra', 9, 13, 0, '2024-10-28', 'SUBMITTED')\n",
      "(3, 3991815, 66, 4, 'married', 'rented', 'no', 'Technical_writer', 'Alappuzha', 'Kerala', 4, 10, 0, '2024-10-28', 'SUBMITTED')\n",
      "(4, 6256451, 41, 2, 'single', 'rented', 'yes', 'Software_Developer', 'Bhubaneswar', 'Odisha', 2, 12, 1, '2024-10-28', 'SUBMITTED')\n",
      "(5, 5768871, 47, 11, 'single', 'rented', 'no', 'Civil_servant', 'Tiruchirappalli[10]', 'Tamil_Nadu', 3, 14, 1, '2024-10-28', 'SUBMITTED')\n",
      "(6, 6915937, 64, 0, 'single', 'rented', 'no', 'Civil_servant', 'Jalgaon', 'Maharashtra', 0, 12, 0, '2024-10-28', 'SUBMITTED')\n",
      "(7, 3954973, 58, 14, 'married', 'rented', 'no', 'Librarian', 'Tiruppur', 'Tamil_Nadu', 8, 12, 0, '2024-10-28', 'SUBMITTED')\n",
      "(8, 1706172, 33, 2, 'single', 'rented', 'no', 'Economist', 'Jamnagar', 'Gujarat', 2, 14, 0, '2024-10-28', 'SUBMITTED')\n",
      "(9, 7566849, 24, 17, 'single', 'rented', 'yes', 'Flight_attendant', 'Kota[6]', 'Rajasthan', 11, 11, 0, '2024-10-28', 'SUBMITTED')\n"
     ]
    }
   ],
   "source": [
    "results = ans.fetchall()\n",
    "for row in results:\n",
    "    print(row)"
   ]
  }
 ],
 "metadata": {
  "kernelspec": {
   "display_name": "Python 3",
   "language": "python",
   "name": "python3"
  },
  "language_info": {
   "codemirror_mode": {
    "name": "ipython",
    "version": 3
   },
   "file_extension": ".py",
   "mimetype": "text/x-python",
   "name": "python",
   "nbconvert_exporter": "python",
   "pygments_lexer": "ipython3",
   "version": "3.8.13"
  }
 },
 "nbformat": 4,
 "nbformat_minor": 2
}
